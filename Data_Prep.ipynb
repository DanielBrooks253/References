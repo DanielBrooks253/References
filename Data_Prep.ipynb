{
 "cells": [
  {
   "cell_type": "code",
   "execution_count": 48,
   "metadata": {},
   "outputs": [],
   "source": [
    "import xgboost\r\n",
    "\r\n",
    "import numpy as np\r\n",
    "import pandas as pd\r\n",
    "import matplotlib.pyplot as plt\r\n",
    "\r\n",
    "from sklearn import preprocessing, impute, model_selection\r\n",
    "from sklearn.metrics import auc, confusion_matrix, roc_auc_score, roc_curve, precision_score\r\n",
    "from sklearn.model_selection import train_test_split, StratifiedKFold\r\n",
    "from yellowbrick.classifier import ConfusionMatrix, ROCAUC\r\n",
    "from yellowbrick.model_selection import LearningCurve  \r\n",
    "from sklearn.experimental import enable_iterative_imputer\r\n",
    "from sklearn.dummy import DummyClassifier\r\n",
    "from sklearn.linear_model import LogisticRegression\r\n",
    "from sklearn.tree import DecisionTreeClassifier\r\n",
    "from sklearn.neighbors import KNeighborsClassifier\r\n",
    "from sklearn.naive_bayes import GaussianNB\r\n",
    "from sklearn.ensemble import RandomForestClassifier\r\n",
    "from sklearn.svm import SVC\r\n",
    "from mlxtend.classifier import StackingClassifier"
   ]
  },
  {
   "cell_type": "code",
   "execution_count": 2,
   "metadata": {},
   "outputs": [],
   "source": [
    "def tweak_titanic(df):\r\n",
    "    df = df.drop(['name', 'ticket', 'home.dest', 'boat', 'body', 'cabin'], axis=1) \\\r\n",
    "           .pipe(pd.get_dummies, drop_first=True)\r\n",
    "\r\n",
    "    return df\r\n",
    "\r\n",
    "def get_train_test_X_y(df, y_col, test_size=0.3, std_cols=None):\r\n",
    "    y = df[y_col]\r\n",
    "    x = df.drop(y_col, axis=1)\r\n",
    "\r\n",
    "    X_train, X_test, y_train, y_test = train_test_split(x, y, test_size=test_size, random_state=42)\r\n",
    "    fi = impute.IterativeImputer()\r\n",
    "\r\n",
    "    X_train.loc[:, num_cols]=fi.fit_transform(X_train[num_cols])\r\n",
    "    X_test.loc[:, num_cols] = fi.transform(X_test[num_cols])\r\n",
    "\r\n",
    "    if std_cols:\r\n",
    "        std = preprocessing.StandardScaler()\r\n",
    "        X_train.loc[:, std_cols] = std.fit_transform(X_train[std_cols])\r\n",
    "        X_test.loc[:, std_cols] = std.transform(X_test[std_cols])\r\n",
    "\r\n",
    "    return X_train, X_test, y_train, y_test"
   ]
  },
  {
   "cell_type": "code",
   "execution_count": 3,
   "metadata": {},
   "outputs": [],
   "source": [
    "df = pd.read_csv('C:/Users/daniel.brooks/Documents/GitHub/References/titanic3.csv')\r\n",
    "orig_df = df\r\n",
    "\r\n",
    "df = df.drop(['name', 'ticket', 'home.dest', 'boat', 'body', 'cabin'], axis=1)"
   ]
  },
  {
   "cell_type": "code",
   "execution_count": 4,
   "metadata": {},
   "outputs": [
    {
     "data": {
      "text/plain": [
       "Index(['pclass', 'survived', 'age', 'sibsp', 'parch', 'fare', 'sex_male',\n",
       "       'embarked_Q', 'embarked_S'],\n",
       "      dtype='object')"
      ]
     },
     "execution_count": 4,
     "metadata": {},
     "output_type": "execute_result"
    }
   ],
   "source": [
    "df = pd.get_dummies(df, drop_first=True)\r\n",
    "df.columns"
   ]
  },
  {
   "cell_type": "code",
   "execution_count": 5,
   "metadata": {},
   "outputs": [],
   "source": [
    "X_train, X_test, y_train, y_test = train_test_split(df.drop('survived', axis=1), df['survived'], random_state=42, test_size=.30)\r\n",
    "\r\n",
    "num_cols = ['pclass', 'age', 'sibsp', 'parch', 'fare', 'sex_male']\r\n",
    "imputer = impute.IterativeImputer()\r\n",
    "\r\n",
    "imputed_train = imputer.fit_transform(X_train[num_cols])\r\n",
    "imputed_test = imputer.transform(X_test[num_cols])\r\n",
    "\r\n",
    "X_train.loc[:, num_cols] = imputed_train\r\n",
    "X_test.loc[:, num_cols] = imputed_test"
   ]
  },
  {
   "cell_type": "code",
   "execution_count": 6,
   "metadata": {},
   "outputs": [
    {
     "name": "stderr",
     "output_type": "stream",
     "text": [
      "C:\\Users\\daniel.brooks\\AppData\\Roaming\\Python\\Python39\\site-packages\\pandas\\core\\indexing.py:1737: SettingWithCopyWarning: \n",
      "A value is trying to be set on a copy of a slice from a DataFrame.\n",
      "Try using .loc[row_indexer,col_indexer] = value instead\n",
      "\n",
      "See the caveats in the documentation: https://pandas.pydata.org/pandas-docs/stable/user_guide/indexing.html#returning-a-view-versus-a-copy\n",
      "  self._setitem_single_column(loc, value[:, i].tolist(), pi)\n",
      "C:\\Users\\daniel.brooks\\AppData\\Roaming\\Python\\Python39\\site-packages\\pandas\\core\\indexing.py:1737: SettingWithCopyWarning: \n",
      "A value is trying to be set on a copy of a slice from a DataFrame.\n",
      "Try using .loc[row_indexer,col_indexer] = value instead\n",
      "\n",
      "See the caveats in the documentation: https://pandas.pydata.org/pandas-docs/stable/user_guide/indexing.html#returning-a-view-versus-a-copy\n",
      "  self._setitem_single_column(loc, value[:, i].tolist(), pi)\n",
      "C:\\Users\\daniel.brooks\\AppData\\Roaming\\Python\\Python39\\site-packages\\pandas\\core\\indexing.py:1737: SettingWithCopyWarning: \n",
      "A value is trying to be set on a copy of a slice from a DataFrame.\n",
      "Try using .loc[row_indexer,col_indexer] = value instead\n",
      "\n",
      "See the caveats in the documentation: https://pandas.pydata.org/pandas-docs/stable/user_guide/indexing.html#returning-a-view-versus-a-copy\n",
      "  self._setitem_single_column(loc, value[:, i].tolist(), pi)\n",
      "C:\\Users\\daniel.brooks\\AppData\\Roaming\\Python\\Python39\\site-packages\\pandas\\core\\indexing.py:1737: SettingWithCopyWarning: \n",
      "A value is trying to be set on a copy of a slice from a DataFrame.\n",
      "Try using .loc[row_indexer,col_indexer] = value instead\n",
      "\n",
      "See the caveats in the documentation: https://pandas.pydata.org/pandas-docs/stable/user_guide/indexing.html#returning-a-view-versus-a-copy\n",
      "  self._setitem_single_column(loc, value[:, i].tolist(), pi)\n"
     ]
    }
   ],
   "source": [
    "ti_df = tweak_titanic(orig_df)\r\n",
    "std_cols = \"pclass,age,sibsp,fare\".split(\",\")\r\n",
    "X_train, X_test, y_train, y_test = get_train_test_X_y(ti_df, 'survived', std_cols=std_cols)"
   ]
  },
  {
   "cell_type": "code",
   "execution_count": 7,
   "metadata": {},
   "outputs": [
    {
     "name": "stderr",
     "output_type": "stream",
     "text": [
      "C:\\Users\\daniel.brooks\\AppData\\Roaming\\Python\\Python39\\site-packages\\sklearn\\metrics\\_classification.py:1248: UndefinedMetricWarning: Precision is ill-defined and being set to 0.0 due to no predicted samples. Use `zero_division` parameter to control this behavior.\n",
      "  _warn_prf(average, modifier, msg_start, len(result))\n"
     ]
    },
    {
     "data": {
      "text/plain": [
       "0.0"
      ]
     },
     "execution_count": 7,
     "metadata": {},
     "output_type": "execute_result"
    }
   ],
   "source": [
    "# Dummy Model\r\n",
    "dc = DummyClassifier()\r\n",
    "dc.fit(X_train, y_train)\r\n",
    "dc.score(X_test, y_test)\r\n",
    "precision_score(y_test, dc.predict(X_test))"
   ]
  },
  {
   "cell_type": "code",
   "execution_count": 8,
   "metadata": {},
   "outputs": [
    {
     "name": "stdout",
     "output_type": "stream",
     "text": [
      "DummyClassifier         AUC: 0.500 STD: 0.00\n",
      "LogisticRegression      AUC: 0.840 STD: 0.04\n",
      "DecisionTreeClassifier  AUC: 0.760 STD: 0.03\n",
      "KNeighborsClassifier    AUC: 0.829 STD: 0.03\n",
      "GaussianNB              AUC: 0.812 STD: 0.05\n",
      "SVC                     AUC: 0.838 STD: 0.03\n",
      "RandomForestClassifier  AUC: 0.849 STD: 0.02\n"
     ]
    },
    {
     "name": "stderr",
     "output_type": "stream",
     "text": [
      "C:\\Users\\daniel.brooks\\AppData\\Roaming\\Python\\Python39\\site-packages\\xgboost\\sklearn.py:888: UserWarning: The use of label encoder in XGBClassifier is deprecated and will be removed in a future release. To remove this warning, do the following: 1) Pass option use_label_encoder=False when constructing XGBClassifier object; and 2) Encode your labels (y) as integers starting with 0, i.e. 0, 1, 2, ..., [num_class - 1].\n",
      "  warnings.warn(label_encoder_deprecation_msg, UserWarning)\n"
     ]
    },
    {
     "name": "stdout",
     "output_type": "stream",
     "text": [
      "[16:20:58] WARNING: C:/Users/Administrator/workspace/xgboost-win64_release_1.3.0/src/learner.cc:1061: Starting in XGBoost 1.3.0, the default evaluation metric used with the objective 'binary:logistic' was changed from 'error' to 'logloss'. Explicitly set eval_metric if you'd like to restore the old behavior.\n",
      "[16:20:58] WARNING: C:/Users/Administrator/workspace/xgboost-win64_release_1.3.0/src/learner.cc:1061: Starting in XGBoost 1.3.0, the default evaluation metric used with the objective 'binary:logistic' was changed from 'error' to 'logloss'. Explicitly set eval_metric if you'd like to restore the old behavior.\n",
      "[16:20:58] WARNING: C:/Users/Administrator/workspace/xgboost-win64_release_1.3.0/src/learner.cc:1061: Starting in XGBoost 1.3.0, the default evaluation metric used with the objective 'binary:logistic' was changed from 'error' to 'logloss'. Explicitly set eval_metric if you'd like to restore the old behavior.\n"
     ]
    },
    {
     "name": "stderr",
     "output_type": "stream",
     "text": [
      "C:\\Users\\daniel.brooks\\AppData\\Roaming\\Python\\Python39\\site-packages\\xgboost\\sklearn.py:888: UserWarning: The use of label encoder in XGBClassifier is deprecated and will be removed in a future release. To remove this warning, do the following: 1) Pass option use_label_encoder=False when constructing XGBClassifier object; and 2) Encode your labels (y) as integers starting with 0, i.e. 0, 1, 2, ..., [num_class - 1].\n",
      "  warnings.warn(label_encoder_deprecation_msg, UserWarning)\n",
      "C:\\Users\\daniel.brooks\\AppData\\Roaming\\Python\\Python39\\site-packages\\xgboost\\sklearn.py:888: UserWarning: The use of label encoder in XGBClassifier is deprecated and will be removed in a future release. To remove this warning, do the following: 1) Pass option use_label_encoder=False when constructing XGBClassifier object; and 2) Encode your labels (y) as integers starting with 0, i.e. 0, 1, 2, ..., [num_class - 1].\n",
      "  warnings.warn(label_encoder_deprecation_msg, UserWarning)\n",
      "C:\\Users\\daniel.brooks\\AppData\\Roaming\\Python\\Python39\\site-packages\\xgboost\\sklearn.py:888: UserWarning: The use of label encoder in XGBClassifier is deprecated and will be removed in a future release. To remove this warning, do the following: 1) Pass option use_label_encoder=False when constructing XGBClassifier object; and 2) Encode your labels (y) as integers starting with 0, i.e. 0, 1, 2, ..., [num_class - 1].\n",
      "  warnings.warn(label_encoder_deprecation_msg, UserWarning)\n"
     ]
    },
    {
     "name": "stdout",
     "output_type": "stream",
     "text": [
      "[16:20:58] WARNING: C:/Users/Administrator/workspace/xgboost-win64_release_1.3.0/src/learner.cc:1061: Starting in XGBoost 1.3.0, the default evaluation metric used with the objective 'binary:logistic' was changed from 'error' to 'logloss'. Explicitly set eval_metric if you'd like to restore the old behavior.\n",
      "[16:20:58] WARNING: C:/Users/Administrator/workspace/xgboost-win64_release_1.3.0/src/learner.cc:1061: Starting in XGBoost 1.3.0, the default evaluation metric used with the objective 'binary:logistic' was changed from 'error' to 'logloss'. Explicitly set eval_metric if you'd like to restore the old behavior.\n",
      "[16:20:58] WARNING: C:/Users/Administrator/workspace/xgboost-win64_release_1.3.0/src/learner.cc:1061: Starting in XGBoost 1.3.0, the default evaluation metric used with the objective 'binary:logistic' was changed from 'error' to 'logloss'. Explicitly set eval_metric if you'd like to restore the old behavior.\n"
     ]
    },
    {
     "name": "stderr",
     "output_type": "stream",
     "text": [
      "C:\\Users\\daniel.brooks\\AppData\\Roaming\\Python\\Python39\\site-packages\\xgboost\\sklearn.py:888: UserWarning: The use of label encoder in XGBClassifier is deprecated and will be removed in a future release. To remove this warning, do the following: 1) Pass option use_label_encoder=False when constructing XGBClassifier object; and 2) Encode your labels (y) as integers starting with 0, i.e. 0, 1, 2, ..., [num_class - 1].\n",
      "  warnings.warn(label_encoder_deprecation_msg, UserWarning)\n",
      "C:\\Users\\daniel.brooks\\AppData\\Roaming\\Python\\Python39\\site-packages\\xgboost\\sklearn.py:888: UserWarning: The use of label encoder in XGBClassifier is deprecated and will be removed in a future release. To remove this warning, do the following: 1) Pass option use_label_encoder=False when constructing XGBClassifier object; and 2) Encode your labels (y) as integers starting with 0, i.e. 0, 1, 2, ..., [num_class - 1].\n",
      "  warnings.warn(label_encoder_deprecation_msg, UserWarning)\n",
      "C:\\Users\\daniel.brooks\\AppData\\Roaming\\Python\\Python39\\site-packages\\xgboost\\sklearn.py:888: UserWarning: The use of label encoder in XGBClassifier is deprecated and will be removed in a future release. To remove this warning, do the following: 1) Pass option use_label_encoder=False when constructing XGBClassifier object; and 2) Encode your labels (y) as integers starting with 0, i.e. 0, 1, 2, ..., [num_class - 1].\n",
      "  warnings.warn(label_encoder_deprecation_msg, UserWarning)\n"
     ]
    },
    {
     "name": "stdout",
     "output_type": "stream",
     "text": [
      "[16:20:58] WARNING: C:/Users/Administrator/workspace/xgboost-win64_release_1.3.0/src/learner.cc:1061: Starting in XGBoost 1.3.0, the default evaluation metric used with the objective 'binary:logistic' was changed from 'error' to 'logloss'. Explicitly set eval_metric if you'd like to restore the old behavior.\n",
      "[16:20:58] WARNING: C:/Users/Administrator/workspace/xgboost-win64_release_1.3.0/src/learner.cc:1061: Starting in XGBoost 1.3.0, the default evaluation metric used with the objective 'binary:logistic' was changed from 'error' to 'logloss'. Explicitly set eval_metric if you'd like to restore the old behavior.\n",
      "[16:20:58] WARNING: C:/Users/Administrator/workspace/xgboost-win64_release_1.3.0/src/learner.cc:1061: Starting in XGBoost 1.3.0, the default evaluation metric used with the objective 'binary:logistic' was changed from 'error' to 'logloss'. Explicitly set eval_metric if you'd like to restore the old behavior.\n"
     ]
    },
    {
     "name": "stderr",
     "output_type": "stream",
     "text": [
      "C:\\Users\\daniel.brooks\\AppData\\Roaming\\Python\\Python39\\site-packages\\xgboost\\sklearn.py:888: UserWarning: The use of label encoder in XGBClassifier is deprecated and will be removed in a future release. To remove this warning, do the following: 1) Pass option use_label_encoder=False when constructing XGBClassifier object; and 2) Encode your labels (y) as integers starting with 0, i.e. 0, 1, 2, ..., [num_class - 1].\n",
      "  warnings.warn(label_encoder_deprecation_msg, UserWarning)\n",
      "C:\\Users\\daniel.brooks\\AppData\\Roaming\\Python\\Python39\\site-packages\\xgboost\\sklearn.py:888: UserWarning: The use of label encoder in XGBClassifier is deprecated and will be removed in a future release. To remove this warning, do the following: 1) Pass option use_label_encoder=False when constructing XGBClassifier object; and 2) Encode your labels (y) as integers starting with 0, i.e. 0, 1, 2, ..., [num_class - 1].\n",
      "  warnings.warn(label_encoder_deprecation_msg, UserWarning)\n",
      "C:\\Users\\daniel.brooks\\AppData\\Roaming\\Python\\Python39\\site-packages\\xgboost\\sklearn.py:888: UserWarning: The use of label encoder in XGBClassifier is deprecated and will be removed in a future release. To remove this warning, do the following: 1) Pass option use_label_encoder=False when constructing XGBClassifier object; and 2) Encode your labels (y) as integers starting with 0, i.e. 0, 1, 2, ..., [num_class - 1].\n",
      "  warnings.warn(label_encoder_deprecation_msg, UserWarning)\n"
     ]
    },
    {
     "name": "stdout",
     "output_type": "stream",
     "text": [
      "[16:20:58] WARNING: C:/Users/Administrator/workspace/xgboost-win64_release_1.3.0/src/learner.cc:1061: Starting in XGBoost 1.3.0, the default evaluation metric used with the objective 'binary:logistic' was changed from 'error' to 'logloss'. Explicitly set eval_metric if you'd like to restore the old behavior.\n",
      "XGBClassifier           AUC: 0.857 STD: 0.02\n"
     ]
    }
   ],
   "source": [
    "# Compare series of models\r\n",
    "X = pd.concat([X_train, X_test])\r\n",
    "y = pd.concat([y_train, y_test])\r\n",
    "\r\n",
    "for model in [DummyClassifier,\r\n",
    "              LogisticRegression,\r\n",
    "              DecisionTreeClassifier,\r\n",
    "              KNeighborsClassifier,\r\n",
    "              GaussianNB,\r\n",
    "              SVC,\r\n",
    "              RandomForestClassifier,\r\n",
    "              xgboost.XGBClassifier]:\r\n",
    "\r\n",
    "              cls = model()\r\n",
    "              kfold = model_selection.KFold(n_splits=10, random_state=42, shuffle=True)\r\n",
    "              s = model_selection.cross_val_score(cls, X, y, scoring='roc_auc', cv=kfold)\r\n",
    "\r\n",
    "              print(f\"{model.__name__:22}  AUC: \"\r\n",
    "                    f\"{s.mean():.3f} STD: {s.std():.2f}\")"
   ]
  },
  {
   "cell_type": "code",
   "execution_count": 24,
   "metadata": {},
   "outputs": [
    {
     "name": "stdout",
     "output_type": "stream",
     "text": [
      "StackingClassifier  AUC: 0.789 STD: 0.04\n"
     ]
    }
   ],
   "source": [
    "# Stacking Classifiers\r\n",
    "clfs = [x() for x in [LogisticRegression, DecisionTreeClassifier, KNeighborsClassifier, GaussianNB, SVC, RandomForestClassifier]]\r\n",
    "\r\n",
    "stack = StackingClassifier(\r\n",
    "    classifiers=clfs,\r\n",
    "    meta_classifier=LogisticRegression()\r\n",
    ")\r\n",
    "\r\n",
    "kfold = model_selection.KFold(n_splits=10)\r\n",
    "s = model_selection.cross_val_score(stack, X, y, scoring=\"roc_auc\", cv=kfold)\r\n",
    "\r\n",
    "print(f\"{stack.__class__.__name__:}  AUC: \"\r\n",
    "     f\"{s.mean():.3f} STD: {s.std():.2f}\")"
   ]
  },
  {
   "cell_type": "code",
   "execution_count": 28,
   "metadata": {},
   "outputs": [
    {
     "name": "stdout",
     "output_type": "stream",
     "text": [
      "age            0.282\n",
      "fare           0.269\n",
      "sex_male       0.236\n",
      "pclass         0.090\n",
      "sibsp          0.050\n"
     ]
    }
   ],
   "source": [
    "# Random Forest\r\n",
    "rf = RandomForestClassifier(n_estimators=100, random_state=42)\r\n",
    "rf.fit(X_train, y_train)\r\n",
    "rf.score(X_test, y_test)\r\n",
    "\r\n",
    "for col, val in sorted(zip(X_train.columns, rf.feature_importances_), key=lambda x:x[1], reverse=True)[:5]:\r\n",
    "    print(f\"{col:10}{val:10.3f}\")"
   ]
  },
  {
   "cell_type": "code",
   "execution_count": 33,
   "metadata": {},
   "outputs": [
    {
     "name": "stderr",
     "output_type": "stream",
     "text": [
      "C:\\Users\\daniel.brooks\\AppData\\Roaming\\Python\\Python39\\site-packages\\yellowbrick\\classifier\\base.py:232: YellowbrickWarning: could not determine class_counts_ from previously fitted classifier\n",
      "  warnings.warn(\n"
     ]
    },
    {
     "data": {
      "image/png": "[encoded data removed]",
      "text/plain": [
       "<Figure size 432x432 with 1 Axes>"
      ]
     },
     "metadata": {},
     "output_type": "display_data"
    },
    {
     "data": {
      "text/plain": [
       "<AxesSubplot:title={'center':'RandomForestClassifier Confusion Matrix'}, xlabel='Predicted Class', ylabel='True Class'>"
      ]
     },
     "execution_count": 33,
     "metadata": {},
     "output_type": "execute_result"
    }
   ],
   "source": [
    "# Confusion Matrix\r\n",
    "y_pred = rf.predict(X_test)\r\n",
    "confusion_matrix(y_test, y_pred)\r\n",
    "\r\n",
    "mapping = {0: 'died', 1: 'survived'}\r\n",
    "fig, ax = plt.subplots(figsize=(6,6))\r\n",
    "cm_viz = ConfusionMatrix(rf, classes=['died', 'survived'], label_encoder=mapping)\r\n",
    "cm_viz.score(X_test, y_test)\r\n",
    "cm_viz.poof()"
   ]
  },
  {
   "cell_type": "code",
   "execution_count": 50,
   "metadata": {},
   "outputs": [
    {
     "data": {
      "image/png": "[encoded data removed]",
      "text/plain": [
       "<Figure size 432x288 with 1 Axes>"
      ]
     },
     "metadata": {},
     "output_type": "display_data"
    },
    {
     "data": {
      "text/plain": [
       "<AxesSubplot:title={'center':'Learning Curve for RandomForestClassifier'}, xlabel='Training Instances', ylabel='Score'>"
      ]
     },
     "execution_count": 50,
     "metadata": {},
     "output_type": "execute_result"
    }
   ],
   "source": [
    "fig, ax = plt.subplots(figsize=(6, 4))\r\n",
    "cv = StratifiedKFold(12)\r\n",
    "sizes = np.linspace(0.3, 1.0, 10)\r\n",
    "lc_viz = LearningCurve(\r\n",
    "    rf,\r\n",
    "    cv=cv,\r\n",
    "    train_sizes=sizes,\r\n",
    "    scoring=\"f1_weighted\",\r\n",
    "    n_jobs=4,\r\n",
    "    ax=ax,\r\n",
    ")\r\n",
    "lc_viz.fit(X, y)\r\n",
    "lc_viz.poof()\r\n",
    "##"
   ]
  }
 ],
 "metadata": {
  "interpreter": {
   "hash": "ac59ebe37160ed0dfa835113d9b8498d9f09ceb179beaac4002f036b9467c963"
  },
  "kernelspec": {
   "display_name": "Python 3.9.1 64-bit",
   "name": "python3"
  },
  "language_info": {
   "codemirror_mode": {
    "name": "ipython",
    "version": 3
   },
   "file_extension": ".py",
   "mimetype": "text/x-python",
   "name": "python",
   "nbconvert_exporter": "python",
   "pygments_lexer": "ipython3",
   "version": "3.9.1"
  },
  "orig_nbformat": 4
 },
 "nbformat": 4,
 "nbformat_minor": 2
}